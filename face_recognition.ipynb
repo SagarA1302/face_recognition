{
 "cells": [
  {
   "cell_type": "code",
   "execution_count": 3,
   "metadata": {},
   "outputs": [],
   "source": [
    "#Import only if not previously imported\n",
    "import cv2\n",
    "# In VideoCapture object either Pass address of your Video file\n",
    "# Or If the input is the camera, pass 0 instead of the video file\n",
    "cap = cv2.VideoCapture(0)\n",
    "face_cascade = cv2.CascadeClassifier(cv2.data.haarcascades+'haarcascade_frontalface_default.xml')\n",
    "eye_cascade = cv2.CascadeClassifier(cv2.data.haarcascades+'haarcascade_eye.xml')\n"
   ]
  },
  {
   "cell_type": "code",
   "execution_count": null,
   "metadata": {},
   "outputs": [],
   "source": [
    "if cap.isOpened() == False:\n",
    "    print(\"Error in opening video stream or file\")\n",
    "while True:\n",
    "    ret,frame = cap.read()\n",
    "    gray = cv2.cvtColor(frame,cv2.COLOR_BGR2GRAY)\n",
    "    faces = face_cascade.detectMultiScale(gray,1.3,5)\n",
    "    for (x,y,w,h) in faces:\n",
    "        cv2.rectangle(frame,(x,y),(x+w,y+h),(55,45,89),5)\n",
    "        roi_gray = gray[y:y+w,x:x+w]\n",
    "        roi_color = frame[y:y+w,x:x+w]\n",
    "        eyes = eye_cascade.detectMultiScale(roi_gray,1.3,5)\n",
    "        for (x,y,w,h) in eyes:\n",
    "            cv2.rectangle(roi_color,(x,y),(x+w,y+h),(200,99,66),5)\n",
    "        \n",
    "    cv2.imshow('Frame',frame)\n",
    "    if cv2.waitKey(110)==ord('q'):\n",
    "        break\n",
    "cap.release()\n",
    "cv2.destroyAllWindows()"
   ]
  },
  {
   "cell_type": "code",
   "execution_count": null,
   "metadata": {},
   "outputs": [],
   "source": []
  }
 ],
 "metadata": {
  "kernelspec": {
   "display_name": "Python 3",
   "language": "python",
   "name": "python3"
  },
  "language_info": {
   "codemirror_mode": {
    "name": "ipython",
    "version": 3
   },
   "file_extension": ".py",
   "mimetype": "text/x-python",
   "name": "python",
   "nbconvert_exporter": "python",
   "pygments_lexer": "ipython3",
   "version": "3.8.5"
  }
 },
 "nbformat": 4,
 "nbformat_minor": 4
}
